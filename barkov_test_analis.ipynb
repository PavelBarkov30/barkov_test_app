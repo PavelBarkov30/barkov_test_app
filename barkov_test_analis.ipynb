{
 "cells": [
  {
   "cell_type": "code",
   "execution_count": 1,
   "id": "14279da2",
   "metadata": {},
   "outputs": [],
   "source": [
    "import pandas as pd\n",
    "import seaborn as sns\n",
    "import scipy"
   ]
  },
  {
   "cell_type": "markdown",
   "id": "5f6f7f12",
   "metadata": {},
   "source": [
    "Руководство компании обратило внимание на то, что сотрудники старше 35 лет болеют чаще, чем более молодые сотрудники. Кроме этого, среди мужчин количество пропусков рабочих дней в связи с больничным выше, чем среди женщин. В связи с этой ситуацией, руководство организации планирует ввести дополнительные медицинские осмотры среди групп риска.<br>\n",
    "\n",
    "`Необходимо проверить несколько гипотез:`\n",
    "1)\tМужчины пропускают в течение года более 2 рабочих дней (work_days) по болезни значимо чаще женщин.<br>\n",
    "2)\tРаботники старше 35 лет (age) пропускают в течение года более 2 рабочих дней (work_days) по болезни значимо чаще своих более молодых коллег.\n",
    "\n"
   ]
  },
  {
   "cell_type": "code",
   "execution_count": 2,
   "id": "3e31285b",
   "metadata": {},
   "outputs": [],
   "source": [
    "df = pd.read_csv(\"./Статистика.csv\" , encoding = 'cp1251')"
   ]
  },
  {
   "cell_type": "code",
   "execution_count": 3,
   "id": "69c0c167",
   "metadata": {},
   "outputs": [
    {
     "name": "stdout",
     "output_type": "stream",
     "text": [
      "<class 'pandas.core.frame.DataFrame'>\n",
      "RangeIndex: 237 entries, 0 to 236\n",
      "Data columns (total 3 columns):\n",
      " #   Column                      Non-Null Count  Dtype \n",
      "---  ------                      --------------  ----- \n",
      " 0   Количество больничных дней  237 non-null    int64 \n",
      " 1   Возраст                     237 non-null    int64 \n",
      " 2   Пол                         237 non-null    object\n",
      "dtypes: int64(2), object(1)\n",
      "memory usage: 5.7+ KB\n"
     ]
    }
   ],
   "source": [
    "df.info()"
   ]
  },
  {
   "cell_type": "code",
   "execution_count": 4,
   "id": "28f3f810",
   "metadata": {},
   "outputs": [
    {
     "data": {
      "text/html": [
       "<div>\n",
       "<style scoped>\n",
       "    .dataframe tbody tr th:only-of-type {\n",
       "        vertical-align: middle;\n",
       "    }\n",
       "\n",
       "    .dataframe tbody tr th {\n",
       "        vertical-align: top;\n",
       "    }\n",
       "\n",
       "    .dataframe thead th {\n",
       "        text-align: right;\n",
       "    }\n",
       "</style>\n",
       "<table border=\"1\" class=\"dataframe\">\n",
       "  <thead>\n",
       "    <tr style=\"text-align: right;\">\n",
       "      <th></th>\n",
       "      <th>Количество больничных дней</th>\n",
       "      <th>Возраст</th>\n",
       "      <th>Пол</th>\n",
       "    </tr>\n",
       "  </thead>\n",
       "  <tbody>\n",
       "    <tr>\n",
       "      <th>0</th>\n",
       "      <td>5</td>\n",
       "      <td>39</td>\n",
       "      <td>Ж</td>\n",
       "    </tr>\n",
       "    <tr>\n",
       "      <th>1</th>\n",
       "      <td>4</td>\n",
       "      <td>54</td>\n",
       "      <td>М</td>\n",
       "    </tr>\n",
       "    <tr>\n",
       "      <th>2</th>\n",
       "      <td>4</td>\n",
       "      <td>26</td>\n",
       "      <td>М</td>\n",
       "    </tr>\n",
       "    <tr>\n",
       "      <th>3</th>\n",
       "      <td>5</td>\n",
       "      <td>42</td>\n",
       "      <td>М</td>\n",
       "    </tr>\n",
       "    <tr>\n",
       "      <th>4</th>\n",
       "      <td>4</td>\n",
       "      <td>29</td>\n",
       "      <td>М</td>\n",
       "    </tr>\n",
       "  </tbody>\n",
       "</table>\n",
       "</div>"
      ],
      "text/plain": [
       "   Количество больничных дней  Возраст Пол\n",
       "0                           5       39   Ж\n",
       "1                           4       54   М\n",
       "2                           4       26   М\n",
       "3                           5       42   М\n",
       "4                           4       29   М"
      ]
     },
     "execution_count": 4,
     "metadata": {},
     "output_type": "execute_result"
    }
   ],
   "source": [
    "df.head()"
   ]
  },
  {
   "cell_type": "code",
   "execution_count": 21,
   "id": "34bc628a-7c04-402e-a6fd-18241f7c78f3",
   "metadata": {},
   "outputs": [
    {
     "data": {
      "text/plain": [
       "23"
      ]
     },
     "execution_count": 21,
     "metadata": {},
     "output_type": "execute_result"
    }
   ],
   "source": [
    "df.Возраст.min()"
   ]
  },
  {
   "cell_type": "markdown",
   "id": "1e2268e7",
   "metadata": {},
   "source": [
    "### 1.Мужчины пропускают в течение года более 2 рабочих дней (work_days) по болезни значимо чаще женщин."
   ]
  },
  {
   "cell_type": "code",
   "execution_count": 5,
   "id": "e45bcbed",
   "metadata": {},
   "outputs": [],
   "source": [
    "df_1 = df.loc[df['Количество больничных дней'] > 2]"
   ]
  },
  {
   "cell_type": "markdown",
   "id": "5da22268",
   "metadata": {},
   "source": [
    "Выборки с мужчинами и женщинами"
   ]
  },
  {
   "cell_type": "code",
   "execution_count": 6,
   "id": "52e95f3e",
   "metadata": {},
   "outputs": [],
   "source": [
    "males = df_1.loc[df_1['Пол'] == 'М', 'Количество больничных дней']\n",
    "females = df_1.loc[df_1['Пол'] == 'Ж', 'Количество больничных дней']"
   ]
  },
  {
   "cell_type": "markdown",
   "id": "a32b9636",
   "metadata": {},
   "source": [
    "#### Шапиро-Вилко тест\n",
    "\n",
    "Тест на проверку нормальности распределения .\n",
    "\n",
    "\n",
    "`H0` : нулевая гепотиза: выборка имеет нормальное распределение.\\\n",
    "`H1` : альтернативная гипотеза: выборка не имеет нормального распределения."
   ]
  },
  {
   "cell_type": "markdown",
   "id": "4ce221e7",
   "metadata": {},
   "source": [
    "#### Для мужчин"
   ]
  },
  {
   "cell_type": "code",
   "execution_count": 7,
   "id": "ac7258d5",
   "metadata": {},
   "outputs": [
    {
     "name": "stdout",
     "output_type": "stream",
     "text": [
      "stat=0.816, p=0.0000000075\n",
      "Есть достаточно оснований, чтобы отклонить H0, приманимаем H1.\n"
     ]
    }
   ],
   "source": [
    "stat, p = scipy.stats.shapiro(males)\n",
    "\n",
    "print(f'stat={stat:.3f}, p={p:.10f}')\n",
    "if p > 0.05:\n",
    "    print('Нет досточных оснований, чтобы отклонить H0')\n",
    "else:\n",
    "    print('Есть достаточно оснований, чтобы отклонить H0, приманимаем H1.')"
   ]
  },
  {
   "cell_type": "code",
   "execution_count": 19,
   "id": "72a21c5a",
   "metadata": {},
   "outputs": [
    {
     "data": {
      "text/plain": [
       "<AxesSubplot: >"
      ]
     },
     "execution_count": 19,
     "metadata": {},
     "output_type": "execute_result"
    },
    {
     "data": {
      "image/png": "[encoded data removed]",
      "text/plain": [
       "<Figure size 640x480 with 1 Axes>"
      ]
     },
     "metadata": {},
     "output_type": "display_data"
    }
   ],
   "source": [
    "males.hist(bins = 4)"
   ]
  },
  {
   "cell_type": "markdown",
   "id": "01cd3402",
   "metadata": {},
   "source": [
    "#### Для женщин"
   ]
  },
  {
   "cell_type": "code",
   "execution_count": 9,
   "id": "c533d63b",
   "metadata": {},
   "outputs": [
    {
     "name": "stdout",
     "output_type": "stream",
     "text": [
      "stat=0.841, p=0.0000005731\n",
      "Есть достаточно оснований, чтобы отклонить H0, приманимаем H1.\n"
     ]
    }
   ],
   "source": [
    "stat, p = scipy.stats.shapiro(females)\n",
    "\n",
    "print(f'stat={stat:.3f}, p={p:.10f}')\n",
    "if p > 0.05:\n",
    "    print('Нет досточных оснований, чтобы отклонить H0')\n",
    "else:\n",
    "    print('Есть достаточно оснований, чтобы отклонить H0, приманимаем H1.')"
   ]
  },
  {
   "cell_type": "code",
   "execution_count": 10,
   "id": "3bc15fe3",
   "metadata": {},
   "outputs": [
    {
     "data": {
      "text/plain": [
       "<AxesSubplot: >"
      ]
     },
     "execution_count": 10,
     "metadata": {},
     "output_type": "execute_result"
    },
    {
     "data": {
      "image/png": "[encoded data removed]",
      "text/plain": [
       "<Figure size 640x480 with 1 Axes>"
      ]
     },
     "metadata": {},
     "output_type": "display_data"
    }
   ],
   "source": [
    "females.hist(bins = 2)"
   ]
  },
  {
   "cell_type": "markdown",
   "id": "dc89c730",
   "metadata": {},
   "source": [
    "#### Тест Манна-Витни для двух независимых выборок."
   ]
  },
  {
   "cell_type": "markdown",
   "id": "18e3b876",
   "metadata": {},
   "source": [
    "Тест сравнения двух выборок .\n",
    "\n",
    "\n",
    "`H0` : нулевая гепотиза: выборки не имеют значимых различий.\\\n",
    "`H1` : альтернативная гипотеза: выборки  имеют значимые различия."
   ]
  },
  {
   "cell_type": "code",
   "execution_count": 11,
   "id": "159e247e",
   "metadata": {},
   "outputs": [
    {
     "name": "stdout",
     "output_type": "stream",
     "text": [
      "stat=2799.000, p=0.9548173131\n",
      "Нет досточных оснований, чтобы отклонить H0\n"
     ]
    }
   ],
   "source": [
    "stat, p = scipy.stats.mannwhitneyu(females, males)\n",
    "print(f'stat={stat:.3f}, p={p:.10f}')\n",
    "if p > 0.05:\n",
    "    print('Нет досточных оснований, чтобы отклонить H0')\n",
    "else:\n",
    "    print('Есть достаточно оснований, чтобы отклонить H0, приманимаем H1.')"
   ]
  },
  {
   "cell_type": "markdown",
   "id": "326cb967",
   "metadata": {},
   "source": [
    "`Вывод: Мужчины не пропускают в течение года более 2 рабочих дней (work_days) по болезни значимо чаще женщин.`"
   ]
  },
  {
   "cell_type": "markdown",
   "id": "def3ec3a",
   "metadata": {},
   "source": [
    "### 2.Работники старше 35 лет (age) пропускают в течение года более 2 рабочих дней (work_days) по болезни значимо чаще своих более молодых коллег."
   ]
  },
  {
   "cell_type": "code",
   "execution_count": 12,
   "id": "5a6e2fd4",
   "metadata": {},
   "outputs": [],
   "source": [
    "above_35 = df_1.loc[df_1['Возраст'] > 35, 'Количество больничных дней']\n",
    "below_35 = df_1.loc[df_1['Возраст'] <= 35, 'Количество больничных дней']"
   ]
  },
  {
   "cell_type": "markdown",
   "id": "1b74023a",
   "metadata": {},
   "source": [
    "#### Шапиро-Вилко тест\n",
    "\n",
    "Тест на проверку нормальности распределения .\\\n",
    "`H0` : нулевая гепотиза: выборка имеет нормальное распределение.\\\n",
    "`H1` : альтернативная гипотеза: выборка не имеет нормального распределения."
   ]
  },
  {
   "cell_type": "markdown",
   "id": "c38f39f1",
   "metadata": {},
   "source": [
    "#### Младше 35 лет включительно."
   ]
  },
  {
   "cell_type": "code",
   "execution_count": 13,
   "id": "d7f95811",
   "metadata": {},
   "outputs": [
    {
     "name": "stdout",
     "output_type": "stream",
     "text": [
      "stat=0.826, p=0.0000553038\n",
      "Есть достаточно оснований, чтобы отклонить H0, приманимаем H1.\n"
     ]
    }
   ],
   "source": [
    "stat, p = scipy.stats.shapiro(below_35)\n",
    "\n",
    "print(f'stat={stat:.3f}, p={p:.10f}')\n",
    "if p > 0.05:\n",
    "    print('Нет досточных оснований, чтобы отклонить H0')\n",
    "else:\n",
    "    print('Есть достаточно оснований, чтобы отклонить H0, приманимаем H1.')"
   ]
  },
  {
   "cell_type": "code",
   "execution_count": 14,
   "id": "b1fcf110",
   "metadata": {},
   "outputs": [
    {
     "data": {
      "text/plain": [
       "<AxesSubplot: >"
      ]
     },
     "execution_count": 14,
     "metadata": {},
     "output_type": "execute_result"
    },
    {
     "data": {
      "image/png": "[encoded data removed]",
      "text/plain": [
       "<Figure size 640x480 with 1 Axes>"
      ]
     },
     "metadata": {},
     "output_type": "display_data"
    }
   ],
   "source": [
    "below_35.hist(bins = 2)"
   ]
  },
  {
   "cell_type": "code",
   "execution_count": 15,
   "id": "529abfc9",
   "metadata": {},
   "outputs": [
    {
     "data": {
      "text/plain": [
       "<AxesSubplot: >"
      ]
     },
     "execution_count": 15,
     "metadata": {},
     "output_type": "execute_result"
    },
    {
     "data": {
      "image/png": "[encoded data removed]",
      "text/plain": [
       "<Figure size 640x480 with 1 Axes>"
      ]
     },
     "metadata": {},
     "output_type": "display_data"
    }
   ],
   "source": [
    "above_35.hist(bins = 2)"
   ]
  },
  {
   "cell_type": "markdown",
   "id": "81738c97",
   "metadata": {},
   "source": [
    "#### Старше 35 лет ."
   ]
  },
  {
   "cell_type": "code",
   "execution_count": 16,
   "id": "9de228bf",
   "metadata": {},
   "outputs": [
    {
     "name": "stdout",
     "output_type": "stream",
     "text": [
      "stat=0.826, p=0.0000000002\n",
      "Есть достаточно оснований, чтобы отклонить H0, приманимаем H1.\n"
     ]
    }
   ],
   "source": [
    "stat, p = scipy.stats.shapiro(above_35)\n",
    "\n",
    "print(f'stat={stat:.3f}, p={p:.10f}')\n",
    "if p > 0.05:\n",
    "    print('Нет досточных оснований, чтобы отклонить H0')\n",
    "else:\n",
    "    print('Есть достаточно оснований, чтобы отклонить H0, приманимаем H1.')"
   ]
  },
  {
   "cell_type": "markdown",
   "id": "47b09674",
   "metadata": {},
   "source": [
    "#### Тест Манна-Витни для двух независимых выборок."
   ]
  },
  {
   "cell_type": "markdown",
   "id": "83901905",
   "metadata": {},
   "source": [
    "Тест сравнения двух выборок .\n",
    "\n",
    "\n",
    "`H0` : нулевая гепотиза: выборки не имеют значимых различий.\\\n",
    "`H1` : альтернативная гипотеза: выборки  имеют значимые различия."
   ]
  },
  {
   "cell_type": "code",
   "execution_count": 17,
   "id": "496f8f3f",
   "metadata": {},
   "outputs": [
    {
     "name": "stdout",
     "output_type": "stream",
     "text": [
      "stat=1888.000, p=0.4082971840\n",
      "Нет досточных оснований, чтобы отклонить H0\n"
     ]
    }
   ],
   "source": [
    "stat, p = scipy.stats.mannwhitneyu(above_35, below_35)\n",
    "print(f'stat={stat:.3f}, p={p:.10f}')\n",
    "if p > 0.05:\n",
    "    print('Нет досточных оснований, чтобы отклонить H0')\n",
    "else:\n",
    "    print('Есть достаточно оснований, чтобы отклонить H0, приманимаем H1.')"
   ]
  },
  {
   "cell_type": "markdown",
   "id": "8382bb7b",
   "metadata": {},
   "source": [
    "`Вывод: Работники старше 35 лет (age) не пропускают в течение года более 2 рабочих дней (work_days) по болезни значимо чаще своих более молодых коллег`"
   ]
  },
  {
   "cell_type": "code",
   "execution_count": null,
   "id": "8585f127",
   "metadata": {},
   "outputs": [],
   "source": []
  }
 ],
 "metadata": {
  "kernelspec": {
   "display_name": "Python 3 (ipykernel)",
   "language": "python",
   "name": "python3"
  },
  "language_info": {
   "codemirror_mode": {
    "name": "ipython",
    "version": 3
   },
   "file_extension": ".py",
   "mimetype": "text/x-python",
   "name": "python",
   "nbconvert_exporter": "python",
   "pygments_lexer": "ipython3",
   "version": "3.9.12"
  }
 },
 "nbformat": 4,
 "nbformat_minor": 5
}
